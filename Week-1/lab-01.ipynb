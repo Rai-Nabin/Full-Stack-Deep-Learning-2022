{
 "cells": [
  {
   "cell_type": "markdown",
   "metadata": {},
   "source": [
    "# Lab 01: Deep Neural Networks in PyTorch\n",
    "What you will learn\n",
    "- How to write a basic deep neural network using the PyTorch library.\n",
    "- How the submodules `torch`, like `torch.nn` and `torch.utils.data`, make neural network training and inference code easier.\n",
    "\n",
    "It is adpated from the PyTorch tutorial [What is torch.nn really?](https://pytorch.org/tutorials/beginner/nn_tutorial.html)\n",
    "\n",
    "Refresher: [3Blue1Brown's video](https://www.youtube.com/watch?v=aircAruvnKk&list=PLZHQObOWTQDNU6R1_67000Dx_ZCJB-3pi&ab_channel=3Blue1Brown)"
   ]
  },
  {
   "cell_type": "markdown",
   "metadata": {},
   "source": [
    "# Getting data and making `Tensor`\n",
    "Dataset: [MNIST dataset of handwritten digits](https://en.wikipedia.org/wiki/MNIST_database)"
   ]
  },
  {
   "cell_type": "code",
   "execution_count": null,
   "metadata": {},
   "outputs": [],
   "source": [
    "from pathlib import Path\n",
    "import requests\n",
    "\n",
    "mnist_dataset_url = 'https://github.com/pytorch/tutorials/raw/main/_static/mnist.pkl.gz'\n",
    "\n",
    "save_dir = 'dataset'\n",
    "file_name = 'mnist.pkl.gz'\n",
    "\n",
    "def download_dataset(url, save_dir, file_name):\n",
    "    \"\"\" \n",
    "    Download the MNIST dataset and save it to the `save_dir` directory.\n",
    "    \"\"\"\n",
    "    response = requests.get(url)\n",
    "\n",
    "    # Check if the request is successful\n",
    "    if response.status_code == 200:\n",
    "        # Create directory if not exists\n",
    "        Path(save_dir).mkdir(parents=True, exist_ok=True)\n",
    "        # Save the downloaded dataset to the specific folder\n",
    "        with open(f'{save_dir}/{file_name}', 'wb') as f:\n",
    "            f.write(response.content)  \n",
    "        print('File downloaded successfully.')\n",
    "    else:\n",
    "        print(f'Failed to download the file. Status Code: {response.status_code}') \n",
    "        \n",
    "download_dataset(mnist_dataset_url, save_dir, file_name)\n"
   ]
  },
  {
   "cell_type": "markdown",
   "metadata": {},
   "source": [
    "Larger data consumes more resources - when reading, writing, and sending over the network - so the dataset is compressed (`.gz` extension)\n"
   ]
  },
  {
   "cell_type": "code",
   "execution_count": null,
   "metadata": {},
   "outputs": [],
   "source": [
    "import gzip\n",
    "import pickle\n",
    "\n",
    "def read_mnist(path):\n",
    "    with gzip.open(path, \"rb\") as f:\n",
    "        ((x_train, y_train), (x_valid, y_valid), _) = pickle.load(f, encoding=\"latin-1\")\n",
    "        return x_train,  y_train, x_valid, y_valid\n",
    "\n",
    "x_train, y_train, x_valid, y_valid = read_mnist(f'{save_dir}/{file_name}')"
   ]
  },
  {
   "cell_type": "markdown",
   "metadata": {},
   "source": [
    "PyTorch provides it own array type, the `torch.Tensor`.\n",
    "\n",
    "The term \"tensor\" is intended to connote an array that might have more than two dimensions."
   ]
  }
 ],
 "metadata": {
  "kernelspec": {
   "display_name": ".venv",
   "language": "python",
   "name": "python3"
  },
  "language_info": {
   "codemirror_mode": {
    "name": "ipython",
    "version": 3
   },
   "file_extension": ".py",
   "mimetype": "text/x-python",
   "name": "python",
   "nbconvert_exporter": "python",
   "pygments_lexer": "ipython3",
   "version": "3.8.0"
  }
 },
 "nbformat": 4,
 "nbformat_minor": 2
}
